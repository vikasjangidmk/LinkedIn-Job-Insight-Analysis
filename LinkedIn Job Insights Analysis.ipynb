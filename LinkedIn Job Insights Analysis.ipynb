{
 "cells": [
  {
   "cell_type": "markdown",
   "metadata": {},
   "source": [
    "# Business Context\n",
    "\n",
    "In today's dynamic job market, businesses and job seekers alike are striving to stay ahead of emerging trends and evolving preferences. Leveraging LinkedIn's extensive job posting data provides a valuable opportunity to gain a deep understanding of job market dynamics and to make data-driven decisions that can impact both recruitment strategies and career planning.\n",
    "\n"
   ]
  },
  {
   "cell_type": "markdown",
   "metadata": {},
   "source": [
    "# LinkedIn Job Insights Analysis\n",
    "\n",
    "**About the Dataset:**\n",
    "\n",
    "The dataset contains information about job postings on LinkedIn, including various features such as ID, publication details, job title, company name, application count, job description, contract type, experience level, work type, sector, company ID, location (city and state), and recently posted jobs.\n",
    "\n",
    "**Objective:**\n",
    "\n",
    "The objective of this analysis is to gain insights into job postings on LinkedIn and understand patterns and trends related to job availability, application counts, contract types, experience levels, and sector distribution. By exploring this dataset, we aim to:\n",
    "\n",
    "- **Identify High-Demand Sectors:** Determine which sectors have the highest number of job postings and understand the distribution of job opportunities across different industries.\n",
    "\n",
    "- **Analyze Application Trends:** Investigate how the number of applications varies across different job postings and explore factors influencing candidate interest.\n",
    "\n",
    "- **Examine Contract Types and Experience Levels:** Explore the distribution of contract types and experience levels within job postings to understand the preferences of both employers and candidates.\n",
    "\n",
    "- **Regional Analysis:** Analyze the geographical distribution of job postings to identify regions with high job availability and understand the regional preferences of employers and candidates.\n",
    "\n",
    "- **Company Insights:** Identify companies with the highest number of job postings and analyze their recruitment patterns, sector preferences, and geographic focus.\n",
    "\n",
    "- **Recent Job Trends:** Investigate recently posted jobs to understand emerging trends, sector-specific demands, and shifts in job market dynamics.\n",
    "\n",
    "- **Comparison and Benchmarking:** Compare and benchmark different sectors, contract types, experience levels, and regions to identify best practices, industry standards, and areas for improvement.\n",
    "\n",
    "### Implications for Stakeholders:\n",
    "\n",
    "- **Employers:** Gain actionable insights to optimize recruitment strategies, tailor job postings, and make data-driven decisions on hiring and expansion.\n",
    "\n",
    "- **Job Seekers:** Understand market trends and sector demands to make informed career choices and tailor applications to high-demand areas.\n",
    "\n",
    "- **HR Professionals:** Benchmark recruitment practices and enhance understanding of market dynamics to attract top talent and address skill shortages effectively."
   ]
  },
  {
   "cell_type": "markdown",
   "metadata": {},
   "source": [
    "| **Column Name**                   | **Description**                                                                                 |\n",
    "|-----------------------------------|-------------------------------------------------------------------------------------------------|\n",
    "| **Unnamed: 0**                    | Index of the row in the dataset.                                                                |\n",
    "| **id**                            | Unique identifier for each job posting.                                                         |\n",
    "| **publishedAt**                   | Date and time when the job was published.                                                       |\n",
    "| **title**                         | Title of the job position.                                                                      |\n",
    "| **companyName**                   | Name of the company posting the job.                                                            |\n",
    "| **postedTime**                    | Time when the job was posted.                                                                   |\n",
    "| **applicationsCount**             | Number of applications received for the job.                                                    |\n",
    "| **description**                  | Description of the job role and requirements.                                                   |\n",
    "| **contractType**                  | Type of contract for the job (e.g., full-time, part-time).                                     |\n",
    "| **experienceLevel**               | Level of experience required for the job (e.g., entry-level, mid-level, senior-level).          |\n",
    "| **workType**                      | Type of work arrangement (e.g., remote, on-site).                                               |\n",
    "| **sector**                        | Sector or industry to which the job belongs (e.g., technology, finance).                       |\n",
    "| **companyId**                     | Unique identifier for the company.                                                               |\n",
    "| **city**                          | City where the job is located.                                                                  |\n",
    "| **state**                         | State where the job is located.                                                                 |\n",
    "| **recently_posted_jobs**          | Indicator of whether the job was recently posted (e.g., 1 for recently posted, 0 for not).    |\n"
   ]
  },
  {
   "cell_type": "markdown",
   "metadata": {},
   "source": [
    "**Importing Pandas, Numpy, Matplotlib, Seaborn and Warings Library.**"
   ]
  },
  {
   "cell_type": "code",
   "execution_count": 1,
   "metadata": {},
   "outputs": [],
   "source": [
    "import pandas as pd\n",
    "import numpy as np\n",
    "import matplotlib.pyplot as plt\n",
    "import seaborn as sns\n",
    "import plotly.express as px\n",
    "import warnings\n",
    "\n",
    "warnings.filterwarnings(\"ignore\")\n",
    "\n",
    "%matplotlib inline"
   ]
  },
  {
   "cell_type": "code",
   "execution_count": 2,
   "metadata": {},
   "outputs": [],
   "source": [
    "# Load the data\n",
    "data = pd.read_csv('Dataset/LinkedIn_Jobs_Data_India.csv')"
   ]
  },
  {
   "cell_type": "markdown",
   "metadata": {},
   "source": [
    "- **Get Some Basics information for Dataset**"
   ]
  },
  {
   "cell_type": "code",
   "execution_count": 4,
   "metadata": {},
   "outputs": [
    {
     "data": {
      "text/html": [
       "<div>\n",
       "<style scoped>\n",
       "    .dataframe tbody tr th:only-of-type {\n",
       "        vertical-align: middle;\n",
       "    }\n",
       "\n",
       "    .dataframe tbody tr th {\n",
       "        vertical-align: top;\n",
       "    }\n",
       "\n",
       "    .dataframe thead th {\n",
       "        text-align: right;\n",
       "    }\n",
       "</style>\n",
       "<table border=\"1\" class=\"dataframe\">\n",
       "  <thead>\n",
       "    <tr style=\"text-align: right;\">\n",
       "      <th></th>\n",
       "      <th>Unnamed: 0</th>\n",
       "      <th>id</th>\n",
       "      <th>publishedAt</th>\n",
       "      <th>title</th>\n",
       "      <th>companyName</th>\n",
       "      <th>postedTime</th>\n",
       "      <th>applicationsCount</th>\n",
       "      <th>description</th>\n",
       "      <th>contractType</th>\n",
       "      <th>experienceLevel</th>\n",
       "      <th>workType</th>\n",
       "      <th>sector</th>\n",
       "      <th>companyId</th>\n",
       "      <th>city</th>\n",
       "      <th>state</th>\n",
       "      <th>recently_posted_jobs</th>\n",
       "    </tr>\n",
       "  </thead>\n",
       "  <tbody>\n",
       "    <tr>\n",
       "      <th>0</th>\n",
       "      <td>0</td>\n",
       "      <td>3800928381</td>\n",
       "      <td>2024-01-09</td>\n",
       "      <td>Front-end Engineer/Web Developer (SDE 1 &amp;amp; 2)</td>\n",
       "      <td>BOX8</td>\n",
       "      <td>3 weeks ago</td>\n",
       "      <td>85.0</td>\n",
       "      <td>Skill: html5 , ajax , oop , git , postgresql ,...</td>\n",
       "      <td>Full-time</td>\n",
       "      <td>Entry level</td>\n",
       "      <td>Engineering and Information Technology</td>\n",
       "      <td>Staffing and Recruiting</td>\n",
       "      <td>3479477</td>\n",
       "      <td>Bengaluru</td>\n",
       "      <td>Karnataka</td>\n",
       "      <td>No</td>\n",
       "    </tr>\n",
       "    <tr>\n",
       "      <th>1</th>\n",
       "      <td>1</td>\n",
       "      <td>3800929078</td>\n",
       "      <td>2024-01-09</td>\n",
       "      <td>Android Developer-SDE 1 &amp;amp; 2(Software Devel...</td>\n",
       "      <td>BOX8</td>\n",
       "      <td>3 weeks ago</td>\n",
       "      <td>80.0</td>\n",
       "      <td>Skill: algorithms , rest , github , css , html...</td>\n",
       "      <td>Full-time</td>\n",
       "      <td>Entry level</td>\n",
       "      <td>Engineering and Information Technology</td>\n",
       "      <td>Staffing and Recruiting</td>\n",
       "      <td>3479477</td>\n",
       "      <td>Bengaluru</td>\n",
       "      <td>Karnataka</td>\n",
       "      <td>No</td>\n",
       "    </tr>\n",
       "    <tr>\n",
       "      <th>2</th>\n",
       "      <td>2</td>\n",
       "      <td>3792399495</td>\n",
       "      <td>2023-12-27</td>\n",
       "      <td>Web Developer</td>\n",
       "      <td>Mahe Technologies Private Limited</td>\n",
       "      <td>1 month ago</td>\n",
       "      <td>75.0</td>\n",
       "      <td>The ideal candidate is a creative problem solv...</td>\n",
       "      <td>Full-time</td>\n",
       "      <td>Executive</td>\n",
       "      <td>Engineering and Information Technology</td>\n",
       "      <td>Information Technology &amp; Services</td>\n",
       "      <td>14387125</td>\n",
       "      <td>Greater Kolkata Area</td>\n",
       "      <td>NaN</td>\n",
       "      <td>No</td>\n",
       "    </tr>\n",
       "  </tbody>\n",
       "</table>\n",
       "</div>"
      ],
      "text/plain": [
       "   Unnamed: 0          id publishedAt  \\\n",
       "0           0  3800928381  2024-01-09   \n",
       "1           1  3800929078  2024-01-09   \n",
       "2           2  3792399495  2023-12-27   \n",
       "\n",
       "                                               title  \\\n",
       "0   Front-end Engineer/Web Developer (SDE 1 &amp; 2)   \n",
       "1  Android Developer-SDE 1 &amp; 2(Software Devel...   \n",
       "2                                      Web Developer   \n",
       "\n",
       "                         companyName   postedTime  applicationsCount  \\\n",
       "0                               BOX8  3 weeks ago               85.0   \n",
       "1                               BOX8  3 weeks ago               80.0   \n",
       "2  Mahe Technologies Private Limited  1 month ago               75.0   \n",
       "\n",
       "                                         description contractType  \\\n",
       "0  Skill: html5 , ajax , oop , git , postgresql ,...    Full-time   \n",
       "1  Skill: algorithms , rest , github , css , html...    Full-time   \n",
       "2  The ideal candidate is a creative problem solv...    Full-time   \n",
       "\n",
       "  experienceLevel                                workType  \\\n",
       "0     Entry level  Engineering and Information Technology   \n",
       "1     Entry level  Engineering and Information Technology   \n",
       "2       Executive  Engineering and Information Technology   \n",
       "\n",
       "                              sector  companyId                  city  \\\n",
       "0            Staffing and Recruiting    3479477             Bengaluru   \n",
       "1            Staffing and Recruiting    3479477             Bengaluru   \n",
       "2  Information Technology & Services   14387125  Greater Kolkata Area   \n",
       "\n",
       "       state recently_posted_jobs  \n",
       "0  Karnataka                   No  \n",
       "1  Karnataka                   No  \n",
       "2        NaN                   No  "
      ]
     },
     "execution_count": 4,
     "metadata": {},
     "output_type": "execute_result"
    }
   ],
   "source": [
    "# Show Top 5 Records\n",
    "data.head(3)"
   ]
  },
  {
   "cell_type": "code",
   "execution_count": 5,
   "metadata": {},
   "outputs": [
    {
     "data": {
      "text/plain": [
       "Index(['Unnamed: 0', 'id', 'publishedAt', 'title', 'companyName', 'postedTime',\n",
       "       'applicationsCount', 'description', 'contractType', 'experienceLevel',\n",
       "       'workType', 'sector', 'companyId', 'city', 'state',\n",
       "       'recently_posted_jobs'],\n",
       "      dtype='object')"
      ]
     },
     "execution_count": 5,
     "metadata": {},
     "output_type": "execute_result"
    }
   ],
   "source": [
    "# Returns the column labels of the DataFrame\n",
    "data.columns"
   ]
  },
  {
   "cell_type": "code",
   "execution_count": 6,
   "metadata": {},
   "outputs": [
    {
     "data": {
      "text/plain": [
       "(949, 16)"
      ]
     },
     "execution_count": 6,
     "metadata": {},
     "output_type": "execute_result"
    }
   ],
   "source": [
    "# Shape of the dataset\n",
    "data.shape"
   ]
  },
  {
   "cell_type": "code",
   "execution_count": 7,
   "metadata": {},
   "outputs": [
    {
     "name": "stdout",
     "output_type": "stream",
     "text": [
      "<class 'pandas.core.frame.DataFrame'>\n",
      "RangeIndex: 949 entries, 0 to 948\n",
      "Data columns (total 16 columns):\n",
      " #   Column                Non-Null Count  Dtype  \n",
      "---  ------                --------------  -----  \n",
      " 0   Unnamed: 0            949 non-null    int64  \n",
      " 1   id                    949 non-null    int64  \n",
      " 2   publishedAt           857 non-null    object \n",
      " 3   title                 949 non-null    object \n",
      " 4   companyName           949 non-null    object \n",
      " 5   postedTime            949 non-null    object \n",
      " 6   applicationsCount     949 non-null    float64\n",
      " 7   description           949 non-null    object \n",
      " 8   contractType          860 non-null    object \n",
      " 9   experienceLevel       949 non-null    object \n",
      " 10  workType              860 non-null    object \n",
      " 11  sector                860 non-null    object \n",
      " 12  companyId             949 non-null    int64  \n",
      " 13  city                  949 non-null    object \n",
      " 14  state                 871 non-null    object \n",
      " 15  recently_posted_jobs  949 non-null    object \n",
      "dtypes: float64(1), int64(3), object(12)\n",
      "memory usage: 118.8+ KB\n"
     ]
    }
   ],
   "source": [
    "# Prints a concise summary of the DataFrame 'data', including data types, non-null values, and memory usage.\n",
    "data.info()"
   ]
  },
  {
   "cell_type": "code",
   "execution_count": 8,
   "metadata": {},
   "outputs": [
    {
     "data": {
      "text/plain": [
       "Unnamed: 0                int64\n",
       "id                        int64\n",
       "publishedAt              object\n",
       "title                    object\n",
       "companyName              object\n",
       "postedTime               object\n",
       "applicationsCount       float64\n",
       "description              object\n",
       "contractType             object\n",
       "experienceLevel          object\n",
       "workType                 object\n",
       "sector                   object\n",
       "companyId                 int64\n",
       "city                     object\n",
       "state                    object\n",
       "recently_posted_jobs     object\n",
       "dtype: object"
      ]
     },
     "execution_count": 8,
     "metadata": {},
     "output_type": "execute_result"
    }
   ],
   "source": [
    "# Return the data types of each column in the dataset.\n",
    "data.dtypes"
   ]
  },
  {
   "cell_type": "markdown",
   "metadata": {},
   "source": [
    "**Q. Is there any Duplicate Record in this Dataset? Is yes, then remove the duplicate records.**"
   ]
  },
  {
   "cell_type": "code",
   "execution_count": 79,
   "metadata": {},
   "outputs": [
    {
     "data": {
      "text/plain": [
       "0"
      ]
     },
     "execution_count": 79,
     "metadata": {},
     "output_type": "execute_result"
    }
   ],
   "source": [
    "data.duplicated().sum()"
   ]
  },
  {
   "cell_type": "markdown",
   "metadata": {},
   "source": [
    "**Q. Is there any Null Values present in this column?**"
   ]
  },
  {
   "cell_type": "code",
   "execution_count": 80,
   "metadata": {},
   "outputs": [
    {
     "data": {
      "text/plain": [
       "Unnamed: 0               0\n",
       "id                       0\n",
       "publishedAt             92\n",
       "title                    0\n",
       "companyName              0\n",
       "postedTime               0\n",
       "applicationsCount        0\n",
       "description              0\n",
       "contractType            89\n",
       "experienceLevel          0\n",
       "workType                89\n",
       "sector                  89\n",
       "companyId                0\n",
       "city                     0\n",
       "state                   78\n",
       "recently_posted_jobs     0\n",
       "dtype: int64"
      ]
     },
     "execution_count": 80,
     "metadata": {},
     "output_type": "execute_result"
    }
   ],
   "source": [
    "data.isnull().sum()"
   ]
  },
  {
   "cell_type": "markdown",
   "metadata": {},
   "source": [
    "###### Q1. which companies are the most active in posting jobs on LinkedIn."
   ]
  },
  {
   "cell_type": "code",
   "execution_count": 12,
   "metadata": {},
   "outputs": [
    {
     "data": {
      "text/html": [
       "<div>\n",
       "<style scoped>\n",
       "    .dataframe tbody tr th:only-of-type {\n",
       "        vertical-align: middle;\n",
       "    }\n",
       "\n",
       "    .dataframe tbody tr th {\n",
       "        vertical-align: top;\n",
       "    }\n",
       "\n",
       "    .dataframe thead th {\n",
       "        text-align: right;\n",
       "    }\n",
       "</style>\n",
       "<table border=\"1\" class=\"dataframe\">\n",
       "  <thead>\n",
       "    <tr style=\"text-align: right;\">\n",
       "      <th></th>\n",
       "      <th>companyName</th>\n",
       "      <th>job_count</th>\n",
       "    </tr>\n",
       "  </thead>\n",
       "  <tbody>\n",
       "    <tr>\n",
       "      <th>487</th>\n",
       "      <td>Tata Cummins</td>\n",
       "      <td>20</td>\n",
       "    </tr>\n",
       "    <tr>\n",
       "      <th>179</th>\n",
       "      <td>Freshworks</td>\n",
       "      <td>17</td>\n",
       "    </tr>\n",
       "    <tr>\n",
       "      <th>203</th>\n",
       "      <td>Google</td>\n",
       "      <td>12</td>\n",
       "    </tr>\n",
       "    <tr>\n",
       "      <th>134</th>\n",
       "      <td>Dubai Jobs, Gulf Jobs, Jobs in Dubai, Qatar, K...</td>\n",
       "      <td>11</td>\n",
       "    </tr>\n",
       "    <tr>\n",
       "      <th>21</th>\n",
       "      <td>Aditya Birla Capital</td>\n",
       "      <td>11</td>\n",
       "    </tr>\n",
       "    <tr>\n",
       "      <th>252</th>\n",
       "      <td>Infosys</td>\n",
       "      <td>10</td>\n",
       "    </tr>\n",
       "    <tr>\n",
       "      <th>489</th>\n",
       "      <td>Tata Technologies</td>\n",
       "      <td>10</td>\n",
       "    </tr>\n",
       "    <tr>\n",
       "      <th>335</th>\n",
       "      <td>Microsoft</td>\n",
       "      <td>10</td>\n",
       "    </tr>\n",
       "    <tr>\n",
       "      <th>292</th>\n",
       "      <td>LTIMindtree</td>\n",
       "      <td>9</td>\n",
       "    </tr>\n",
       "    <tr>\n",
       "      <th>546</th>\n",
       "      <td>Valeo</td>\n",
       "      <td>9</td>\n",
       "    </tr>\n",
       "  </tbody>\n",
       "</table>\n",
       "</div>"
      ],
      "text/plain": [
       "                                           companyName  job_count\n",
       "487                                       Tata Cummins         20\n",
       "179                                         Freshworks         17\n",
       "203                                             Google         12\n",
       "134  Dubai Jobs, Gulf Jobs, Jobs in Dubai, Qatar, K...         11\n",
       "21                                Aditya Birla Capital         11\n",
       "252                                            Infosys         10\n",
       "489                                  Tata Technologies         10\n",
       "335                                          Microsoft         10\n",
       "292                                        LTIMindtree          9\n",
       "546                                              Valeo          9"
      ]
     },
     "execution_count": 12,
     "metadata": {},
     "output_type": "execute_result"
    }
   ],
   "source": [
    "# Group the data by company and count the number of job postings\n",
    "company_job_counts = data.groupby('companyName').size().reset_index(name='job_count')\n",
    "\n",
    "# Sort the companies by the number of job postings in descending order\n",
    "most_active_companies = company_job_counts.sort_values(by='job_count', ascending=False)\n",
    "\n",
    "# Display the top 10 most active companies\n",
    "most_active_companies.head(10)"
   ]
  },
  {
   "cell_type": "markdown",
   "metadata": {},
   "source": [
    "###### Q2. which sectors are currently in high demand for hiring."
   ]
  },
  {
   "cell_type": "code",
   "execution_count": 14,
   "metadata": {},
   "outputs": [
    {
     "data": {
      "text/html": [
       "<div>\n",
       "<style scoped>\n",
       "    .dataframe tbody tr th:only-of-type {\n",
       "        vertical-align: middle;\n",
       "    }\n",
       "\n",
       "    .dataframe tbody tr th {\n",
       "        vertical-align: top;\n",
       "    }\n",
       "\n",
       "    .dataframe thead th {\n",
       "        text-align: right;\n",
       "    }\n",
       "</style>\n",
       "<table border=\"1\" class=\"dataframe\">\n",
       "  <thead>\n",
       "    <tr style=\"text-align: right;\">\n",
       "      <th></th>\n",
       "      <th>sector</th>\n",
       "      <th>job_count</th>\n",
       "    </tr>\n",
       "  </thead>\n",
       "  <tbody>\n",
       "    <tr>\n",
       "      <th>97</th>\n",
       "      <td>IT Services and IT Consulting</td>\n",
       "      <td>85</td>\n",
       "    </tr>\n",
       "    <tr>\n",
       "      <th>191</th>\n",
       "      <td>Software Development</td>\n",
       "      <td>74</td>\n",
       "    </tr>\n",
       "    <tr>\n",
       "      <th>203</th>\n",
       "      <td>Staffing and Recruiting</td>\n",
       "      <td>47</td>\n",
       "    </tr>\n",
       "    <tr>\n",
       "      <th>72</th>\n",
       "      <td>Financial Services</td>\n",
       "      <td>42</td>\n",
       "    </tr>\n",
       "    <tr>\n",
       "      <th>206</th>\n",
       "      <td>Technology, Information and Internet</td>\n",
       "      <td>42</td>\n",
       "    </tr>\n",
       "  </tbody>\n",
       "</table>\n",
       "</div>"
      ],
      "text/plain": [
       "                                   sector  job_count\n",
       "97          IT Services and IT Consulting         85\n",
       "191                  Software Development         74\n",
       "203               Staffing and Recruiting         47\n",
       "72                     Financial Services         42\n",
       "206  Technology, Information and Internet         42"
      ]
     },
     "execution_count": 14,
     "metadata": {},
     "output_type": "execute_result"
    }
   ],
   "source": [
    "# Group the data by sector and count the number of job postings\n",
    "sector_job_counts = data.groupby('sector').size().reset_index(name='job_count')\n",
    "\n",
    "# Sort the sectors by the number of job postings in descending order\n",
    "most_in_demand_sectors = sector_job_counts.sort_values(by='job_count', ascending=False)\n",
    "\n",
    "most_in_demand_sectors.head()"
   ]
  },
  {
   "cell_type": "markdown",
   "metadata": {},
   "source": [
    "###### Q3. What are the most common contract types for job postings?"
   ]
  },
  {
   "cell_type": "code",
   "execution_count": 16,
   "metadata": {},
   "outputs": [
    {
     "data": {
      "text/plain": [
       "Full-time     831\n",
       "Internship     13\n",
       "Contract       11\n",
       "Part-time       3\n",
       "Other           1\n",
       "Temporary       1\n",
       "Name: contractType, dtype: int64"
      ]
     },
     "execution_count": 16,
     "metadata": {},
     "output_type": "execute_result"
    }
   ],
   "source": [
    "# Count the occurrences of each contract type\n",
    "contract_type_counts = data['contractType'].value_counts()\n",
    "contract_type_counts"
   ]
  },
  {
   "cell_type": "markdown",
   "metadata": {},
   "source": [
    "###### Q4. Is there any correlation between the number of applications received and the experience level required for the job?"
   ]
  },
  {
   "cell_type": "code",
   "execution_count": 18,
   "metadata": {},
   "outputs": [
    {
     "name": "stdout",
     "output_type": "stream",
     "text": [
      "Correlation between number of applications and experience level: 0.046247422096500776\n"
     ]
    }
   ],
   "source": [
    "# Calculate the correlation coefficient between 'applicationsCount' and 'experienceLevel'\n",
    "correlation = data['applicationsCount'].corr(data['experienceLevel'], method='spearman')\n",
    "\n",
    "# Display the correlation coefficient\n",
    "print(\"Correlation between number of applications and experience level:\", correlation)"
   ]
  },
  {
   "cell_type": "markdown",
   "metadata": {},
   "source": [
    "> A correlation coefficient close to 0 indicates a weak linear relationship between the variables. Here, a correlation coefficient of 0.0462 suggests that there is a very weak positive correlation between the number of applications received and the experience level required for the job.\n",
    "\n"
   ]
  },
  {
   "cell_type": "markdown",
   "metadata": {},
   "source": [
    "###### Q5. What is the average number of applications per job posting?"
   ]
  },
  {
   "cell_type": "code",
   "execution_count": 19,
   "metadata": {},
   "outputs": [
    {
     "name": "stdout",
     "output_type": "stream",
     "text": [
      "Average number of applications per job posting: 116.99789251844047\n"
     ]
    }
   ],
   "source": [
    "# Calculate the average number of applications per job posting\n",
    "average_applications_per_job = data['applicationsCount'].mean()\n",
    "\n",
    "# Display the average number of applications per job posting\n",
    "print(\"Average number of applications per job posting:\", average_applications_per_job)"
   ]
  },
  {
   "cell_type": "markdown",
   "metadata": {},
   "source": [
    "###### Q6. Which cities have the highest number of job postings?"
   ]
  },
  {
   "cell_type": "code",
   "execution_count": 23,
   "metadata": {},
   "outputs": [
    {
     "name": "stdout",
     "output_type": "stream",
     "text": [
      "Bengaluru    196\n",
      "Mumbai       123\n",
      "Gurugram      67\n",
      "Pune          62\n",
      "Hyderabad     54\n",
      "Chennai       42\n",
      "Noida         31\n",
      "India         30\n",
      "Gurgaon       25\n",
      "Delhi         24\n",
      "Name: city, dtype: int64\n"
     ]
    }
   ],
   "source": [
    "# Group the data by city and count the number of job postings\n",
    "city_job_counts = data['city'].value_counts()\n",
    "\n",
    "# Display the cities with the highest number of job postings\n",
    "print(city_job_counts.head(10)) "
   ]
  },
  {
   "cell_type": "markdown",
   "metadata": {},
   "source": [
    "###### Q7. What is the most common level of experience required for job postings?"
   ]
  },
  {
   "cell_type": "code",
   "execution_count": 26,
   "metadata": {},
   "outputs": [
    {
     "name": "stdout",
     "output_type": "stream",
     "text": [
      "Most common level of experience required for job postings: Mid-Senior level\n"
     ]
    }
   ],
   "source": [
    "# Count the occurrences of each experience level\n",
    "experience_level_counts = data['experienceLevel'].value_counts()\n",
    "\n",
    "# Display the most common level of experience required for job postings\n",
    "most_common_experience_level = experience_level_counts.idxmax()\n",
    "\n",
    "print(\"Most common level of experience required for job postings:\", most_common_experience_level)"
   ]
  },
  {
   "cell_type": "markdown",
   "metadata": {},
   "source": [
    "###### Q8. What is the average number of applications received per sector?"
   ]
  },
  {
   "cell_type": "code",
   "execution_count": 28,
   "metadata": {},
   "outputs": [
    {
     "name": "stdout",
     "output_type": "stream",
     "text": [
      "sector\n",
      "Accounting                                                                                                                        112.5000\n",
      "Administrative and Support Services                                                                                                25.0000\n",
      "Advertising Services                                                                                                               88.6875\n",
      "Advertising Services and Marketing Services                                                                                       200.0000\n",
      "Advertising Services, Broadcast Media Production and Distribution, and Technology, Information and Media                          200.0000\n",
      "                                                                                                                                    ...   \n",
      "Wellness and Fitness Services                                                                                                      34.5000\n",
      "Wholesale Building Materials                                                                                                       28.0000\n",
      "Wholesale Building Materials and Building Construction                                                                             91.0000\n",
      "Wholesale Building Materials, Furniture and Home Furnishings Manufacturing, and Retail Building Materials and Garden Equipment     68.0000\n",
      "Wholesale Building Materials, Manufacturing, and Retail Building Materials and Garden Equipment                                   200.0000\n",
      "Name: applicationsCount, Length: 227, dtype: float64\n"
     ]
    }
   ],
   "source": [
    "# Calculate the average number of applications received per sector\n",
    "avg_applications_per_sector = data.groupby('sector')['applicationsCount'].mean()\n",
    "\n",
    "# Display the average number of applications received per sector\n",
    "print(avg_applications_per_sector)"
   ]
  },
  {
   "cell_type": "markdown",
   "metadata": {},
   "source": [
    "###### Q9. Which cities have the highest number of job postings for entry-level positions (experienceLevel='Entry Level') in the 'Staffing and Recruiting' sector "
   ]
  },
  {
   "cell_type": "code",
   "execution_count": 39,
   "metadata": {},
   "outputs": [],
   "source": [
    "# Filter job postings for entry-level positions in the 'Staffing and Recruiting' sector or the 'Finance' sector\n",
    "\n",
    "filtered_df = data[(data['experienceLevel'] == 'Entry level') & ((data['sector'] == 'Staffing and Recruiting') )]"
   ]
  },
  {
   "cell_type": "code",
   "execution_count": 40,
   "metadata": {},
   "outputs": [
    {
     "data": {
      "text/plain": [
       "Bengaluru          5\n",
       "Chennai            3\n",
       "Gurugram           2\n",
       "Mumbai             2\n",
       "Navi Mumbai        2\n",
       "Pune               2\n",
       "Bangalore Urban    2\n",
       "Thane              2\n",
       "Delhi              1\n",
       "Nashik             1\n",
       "Ramanagar          1\n",
       "Halol              1\n",
       "Bulandshahr        1\n",
       "Rajkot             1\n",
       "Ahmedabad          1\n",
       "Hooghly            1\n",
       "Bhilwara           1\n",
       "Hyderabad          1\n",
       "Name: city, dtype: int64"
      ]
     },
     "execution_count": 40,
     "metadata": {},
     "output_type": "execute_result"
    }
   ],
   "source": [
    "# Group by city and count the number of job postings in each city\n",
    "city_job_counts = filtered_df['city'].value_counts()\n",
    "city_job_counts"
   ]
  },
  {
   "cell_type": "markdown",
   "metadata": {},
   "source": [
    "###### Q10. What is the average number of applications received for job postings requiring Entry level of experience in the 'IT Services and IT Consulting' sector or the 'Staffing and Recruiting?"
   ]
  },
  {
   "cell_type": "code",
   "execution_count": 60,
   "metadata": {},
   "outputs": [
    {
     "data": {
      "text/html": [
       "<div>\n",
       "<style scoped>\n",
       "    .dataframe tbody tr th:only-of-type {\n",
       "        vertical-align: middle;\n",
       "    }\n",
       "\n",
       "    .dataframe tbody tr th {\n",
       "        vertical-align: top;\n",
       "    }\n",
       "\n",
       "    .dataframe thead th {\n",
       "        text-align: right;\n",
       "    }\n",
       "</style>\n",
       "<table border=\"1\" class=\"dataframe\">\n",
       "  <thead>\n",
       "    <tr style=\"text-align: right;\">\n",
       "      <th></th>\n",
       "      <th>Unnamed: 0</th>\n",
       "      <th>id</th>\n",
       "      <th>publishedAt</th>\n",
       "      <th>title</th>\n",
       "      <th>companyName</th>\n",
       "      <th>postedTime</th>\n",
       "      <th>applicationsCount</th>\n",
       "      <th>description</th>\n",
       "      <th>contractType</th>\n",
       "      <th>experienceLevel</th>\n",
       "      <th>workType</th>\n",
       "      <th>sector</th>\n",
       "      <th>companyId</th>\n",
       "      <th>city</th>\n",
       "      <th>state</th>\n",
       "      <th>recently_posted_jobs</th>\n",
       "    </tr>\n",
       "  </thead>\n",
       "  <tbody>\n",
       "    <tr>\n",
       "      <th>0</th>\n",
       "      <td>0</td>\n",
       "      <td>3800928381</td>\n",
       "      <td>2024-01-09</td>\n",
       "      <td>Front-end Engineer/Web Developer (SDE 1 &amp;amp; 2)</td>\n",
       "      <td>BOX8</td>\n",
       "      <td>3 weeks ago</td>\n",
       "      <td>85.0</td>\n",
       "      <td>Skill: html5 , ajax , oop , git , postgresql ,...</td>\n",
       "      <td>Full-time</td>\n",
       "      <td>Entry level</td>\n",
       "      <td>Engineering and Information Technology</td>\n",
       "      <td>Staffing and Recruiting</td>\n",
       "      <td>3479477</td>\n",
       "      <td>Bengaluru</td>\n",
       "      <td>Karnataka</td>\n",
       "      <td>No</td>\n",
       "    </tr>\n",
       "    <tr>\n",
       "      <th>1</th>\n",
       "      <td>1</td>\n",
       "      <td>3800929078</td>\n",
       "      <td>2024-01-09</td>\n",
       "      <td>Android Developer-SDE 1 &amp;amp; 2(Software Devel...</td>\n",
       "      <td>BOX8</td>\n",
       "      <td>3 weeks ago</td>\n",
       "      <td>80.0</td>\n",
       "      <td>Skill: algorithms , rest , github , css , html...</td>\n",
       "      <td>Full-time</td>\n",
       "      <td>Entry level</td>\n",
       "      <td>Engineering and Information Technology</td>\n",
       "      <td>Staffing and Recruiting</td>\n",
       "      <td>3479477</td>\n",
       "      <td>Bengaluru</td>\n",
       "      <td>Karnataka</td>\n",
       "      <td>No</td>\n",
       "    </tr>\n",
       "  </tbody>\n",
       "</table>\n",
       "</div>"
      ],
      "text/plain": [
       "   Unnamed: 0          id publishedAt  \\\n",
       "0           0  3800928381  2024-01-09   \n",
       "1           1  3800929078  2024-01-09   \n",
       "\n",
       "                                               title companyName   postedTime  \\\n",
       "0   Front-end Engineer/Web Developer (SDE 1 &amp; 2)        BOX8  3 weeks ago   \n",
       "1  Android Developer-SDE 1 &amp; 2(Software Devel...        BOX8  3 weeks ago   \n",
       "\n",
       "   applicationsCount                                        description  \\\n",
       "0               85.0  Skill: html5 , ajax , oop , git , postgresql ,...   \n",
       "1               80.0  Skill: algorithms , rest , github , css , html...   \n",
       "\n",
       "  contractType experienceLevel                                workType  \\\n",
       "0    Full-time     Entry level  Engineering and Information Technology   \n",
       "1    Full-time     Entry level  Engineering and Information Technology   \n",
       "\n",
       "                    sector  companyId       city      state  \\\n",
       "0  Staffing and Recruiting    3479477  Bengaluru  Karnataka   \n",
       "1  Staffing and Recruiting    3479477  Bengaluru  Karnataka   \n",
       "\n",
       "  recently_posted_jobs  \n",
       "0                   No  \n",
       "1                   No  "
      ]
     },
     "execution_count": 60,
     "metadata": {},
     "output_type": "execute_result"
    }
   ],
   "source": [
    "data.head(2)"
   ]
  },
  {
   "cell_type": "code",
   "execution_count": 62,
   "metadata": {},
   "outputs": [
    {
     "data": {
      "text/html": [
       "<div>\n",
       "<style scoped>\n",
       "    .dataframe tbody tr th:only-of-type {\n",
       "        vertical-align: middle;\n",
       "    }\n",
       "\n",
       "    .dataframe tbody tr th {\n",
       "        vertical-align: top;\n",
       "    }\n",
       "\n",
       "    .dataframe thead th {\n",
       "        text-align: right;\n",
       "    }\n",
       "</style>\n",
       "<table border=\"1\" class=\"dataframe\">\n",
       "  <thead>\n",
       "    <tr style=\"text-align: right;\">\n",
       "      <th></th>\n",
       "      <th>Unnamed: 0</th>\n",
       "      <th>id</th>\n",
       "      <th>publishedAt</th>\n",
       "      <th>title</th>\n",
       "      <th>companyName</th>\n",
       "      <th>postedTime</th>\n",
       "      <th>applicationsCount</th>\n",
       "      <th>description</th>\n",
       "      <th>contractType</th>\n",
       "      <th>experienceLevel</th>\n",
       "      <th>workType</th>\n",
       "      <th>sector</th>\n",
       "      <th>companyId</th>\n",
       "      <th>city</th>\n",
       "      <th>state</th>\n",
       "      <th>recently_posted_jobs</th>\n",
       "    </tr>\n",
       "  </thead>\n",
       "  <tbody>\n",
       "    <tr>\n",
       "      <th>0</th>\n",
       "      <td>0</td>\n",
       "      <td>3800928381</td>\n",
       "      <td>2024-01-09</td>\n",
       "      <td>Front-end Engineer/Web Developer (SDE 1 &amp;amp; 2)</td>\n",
       "      <td>BOX8</td>\n",
       "      <td>3 weeks ago</td>\n",
       "      <td>85.0</td>\n",
       "      <td>Skill: html5 , ajax , oop , git , postgresql ,...</td>\n",
       "      <td>Full-time</td>\n",
       "      <td>Entry level</td>\n",
       "      <td>Engineering and Information Technology</td>\n",
       "      <td>Staffing and Recruiting</td>\n",
       "      <td>3479477</td>\n",
       "      <td>Bengaluru</td>\n",
       "      <td>Karnataka</td>\n",
       "      <td>No</td>\n",
       "    </tr>\n",
       "    <tr>\n",
       "      <th>1</th>\n",
       "      <td>1</td>\n",
       "      <td>3800929078</td>\n",
       "      <td>2024-01-09</td>\n",
       "      <td>Android Developer-SDE 1 &amp;amp; 2(Software Devel...</td>\n",
       "      <td>BOX8</td>\n",
       "      <td>3 weeks ago</td>\n",
       "      <td>80.0</td>\n",
       "      <td>Skill: algorithms , rest , github , css , html...</td>\n",
       "      <td>Full-time</td>\n",
       "      <td>Entry level</td>\n",
       "      <td>Engineering and Information Technology</td>\n",
       "      <td>Staffing and Recruiting</td>\n",
       "      <td>3479477</td>\n",
       "      <td>Bengaluru</td>\n",
       "      <td>Karnataka</td>\n",
       "      <td>No</td>\n",
       "    </tr>\n",
       "    <tr>\n",
       "      <th>31</th>\n",
       "      <td>32</td>\n",
       "      <td>3800919967</td>\n",
       "      <td>2024-01-09</td>\n",
       "      <td>Web / UI Developer (HTML5 / CSS3 / JavaScript)</td>\n",
       "      <td>OptiRisk India</td>\n",
       "      <td>3 weeks ago</td>\n",
       "      <td>123.0</td>\n",
       "      <td>Skill: html5 , ajax , xml , json , debugging ,...</td>\n",
       "      <td>Full-time</td>\n",
       "      <td>Entry level</td>\n",
       "      <td>Engineering and Information Technology</td>\n",
       "      <td>Staffing and Recruiting</td>\n",
       "      <td>840297</td>\n",
       "      <td>Chennai</td>\n",
       "      <td>Tamil Nadu</td>\n",
       "      <td>No</td>\n",
       "    </tr>\n",
       "    <tr>\n",
       "      <th>45</th>\n",
       "      <td>46</td>\n",
       "      <td>3800928532</td>\n",
       "      <td>2024-01-09</td>\n",
       "      <td>Web Developer</td>\n",
       "      <td>Sumago Infotech Pvt. Ltd.</td>\n",
       "      <td>3 weeks ago</td>\n",
       "      <td>92.0</td>\n",
       "      <td>Skill: css , html5 , web developer , php , boo...</td>\n",
       "      <td>Full-time</td>\n",
       "      <td>Entry level</td>\n",
       "      <td>Engineering and Information Technology</td>\n",
       "      <td>Staffing and Recruiting</td>\n",
       "      <td>76330124</td>\n",
       "      <td>Nashik</td>\n",
       "      <td>Maharashtra</td>\n",
       "      <td>No</td>\n",
       "    </tr>\n",
       "    <tr>\n",
       "      <th>54</th>\n",
       "      <td>55</td>\n",
       "      <td>3808384874</td>\n",
       "      <td>2024-01-23</td>\n",
       "      <td>Software Engineer</td>\n",
       "      <td>Infinite Computer Solutions</td>\n",
       "      <td>1 week ago</td>\n",
       "      <td>25.0</td>\n",
       "      <td>18057BR\\n\\nGurgaon\\n\\nJob Description\\n\\nProgr...</td>\n",
       "      <td>Full-time</td>\n",
       "      <td>Entry level</td>\n",
       "      <td>Engineering and Information Technology</td>\n",
       "      <td>IT Services and IT Consulting</td>\n",
       "      <td>11115</td>\n",
       "      <td>Gurgaon</td>\n",
       "      <td>Haryana</td>\n",
       "      <td>Yes</td>\n",
       "    </tr>\n",
       "    <tr>\n",
       "      <th>...</th>\n",
       "      <td>...</td>\n",
       "      <td>...</td>\n",
       "      <td>...</td>\n",
       "      <td>...</td>\n",
       "      <td>...</td>\n",
       "      <td>...</td>\n",
       "      <td>...</td>\n",
       "      <td>...</td>\n",
       "      <td>...</td>\n",
       "      <td>...</td>\n",
       "      <td>...</td>\n",
       "      <td>...</td>\n",
       "      <td>...</td>\n",
       "      <td>...</td>\n",
       "      <td>...</td>\n",
       "      <td>...</td>\n",
       "    </tr>\n",
       "    <tr>\n",
       "      <th>930</th>\n",
       "      <td>1046</td>\n",
       "      <td>3781426102</td>\n",
       "      <td>2023-12-10</td>\n",
       "      <td>Plant Vehicle Engineer</td>\n",
       "      <td>Dubai Jobs, Gulf Jobs, Jobs in Dubai, Qatar, K...</td>\n",
       "      <td>1 month ago</td>\n",
       "      <td>67.0</td>\n",
       "      <td>This position is to encourage candidates to ap...</td>\n",
       "      <td>Full-time</td>\n",
       "      <td>Entry level</td>\n",
       "      <td>Engineering and Information Technology</td>\n",
       "      <td>Staffing and Recruiting</td>\n",
       "      <td>926408</td>\n",
       "      <td>Halol</td>\n",
       "      <td>Gujarat</td>\n",
       "      <td>No</td>\n",
       "    </tr>\n",
       "    <tr>\n",
       "      <th>937</th>\n",
       "      <td>1057</td>\n",
       "      <td>3816934057</td>\n",
       "      <td>2024-01-05</td>\n",
       "      <td>Jr engineer-Mechanical</td>\n",
       "      <td>CIEL HR</td>\n",
       "      <td>4 weeks ago</td>\n",
       "      <td>25.0</td>\n",
       "      <td>We are looking for a Junior engineer-Mechanica...</td>\n",
       "      <td>Full-time</td>\n",
       "      <td>Entry level</td>\n",
       "      <td>Other</td>\n",
       "      <td>IT Services and IT Consulting</td>\n",
       "      <td>10083363</td>\n",
       "      <td>Rajasthan</td>\n",
       "      <td>India</td>\n",
       "      <td>No</td>\n",
       "    </tr>\n",
       "    <tr>\n",
       "      <th>938</th>\n",
       "      <td>1058</td>\n",
       "      <td>3731639372</td>\n",
       "      <td>2023-10-03</td>\n",
       "      <td>Engineer Mechanical</td>\n",
       "      <td>Dubai Jobs, Gulf Jobs, Jobs in Dubai, Qatar, K...</td>\n",
       "      <td>4 months ago</td>\n",
       "      <td>200.0</td>\n",
       "      <td>Key Responsibility Areas: (Mandatory)\\n\\n\\n\\n\\...</td>\n",
       "      <td>Full-time</td>\n",
       "      <td>Entry level</td>\n",
       "      <td>Engineering and Information Technology</td>\n",
       "      <td>Staffing and Recruiting</td>\n",
       "      <td>926408</td>\n",
       "      <td>Ramanagar</td>\n",
       "      <td>Karnataka</td>\n",
       "      <td>No</td>\n",
       "    </tr>\n",
       "    <tr>\n",
       "      <th>946</th>\n",
       "      <td>1067</td>\n",
       "      <td>3781388877</td>\n",
       "      <td>2023-12-10</td>\n",
       "      <td>Mechanical Design Engineer</td>\n",
       "      <td>Vijaya Enterprises</td>\n",
       "      <td>1 month ago</td>\n",
       "      <td>39.0</td>\n",
       "      <td>Job Description\\n\\n\\n * Resolve Issues related...</td>\n",
       "      <td>Full-time</td>\n",
       "      <td>Entry level</td>\n",
       "      <td>Engineering and Information Technology</td>\n",
       "      <td>Staffing and Recruiting</td>\n",
       "      <td>2313856</td>\n",
       "      <td>Navi Mumbai</td>\n",
       "      <td>Maharashtra</td>\n",
       "      <td>No</td>\n",
       "    </tr>\n",
       "    <tr>\n",
       "      <th>948</th>\n",
       "      <td>1071</td>\n",
       "      <td>3795525413</td>\n",
       "      <td>2024-01-20</td>\n",
       "      <td>Piping Engineer</td>\n",
       "      <td>Infosys</td>\n",
       "      <td>1 week ago</td>\n",
       "      <td>93.0</td>\n",
       "      <td>Primary skills: Piping Engineering, CAD, CATIA...</td>\n",
       "      <td>Full-time</td>\n",
       "      <td>Entry level</td>\n",
       "      <td>Engineering and Information Technology</td>\n",
       "      <td>IT Services and IT Consulting</td>\n",
       "      <td>1283</td>\n",
       "      <td>Bengaluru East</td>\n",
       "      <td>Karnataka</td>\n",
       "      <td>Yes</td>\n",
       "    </tr>\n",
       "  </tbody>\n",
       "</table>\n",
       "<p>72 rows × 16 columns</p>\n",
       "</div>"
      ],
      "text/plain": [
       "     Unnamed: 0          id publishedAt  \\\n",
       "0             0  3800928381  2024-01-09   \n",
       "1             1  3800929078  2024-01-09   \n",
       "31           32  3800919967  2024-01-09   \n",
       "45           46  3800928532  2024-01-09   \n",
       "54           55  3808384874  2024-01-23   \n",
       "..          ...         ...         ...   \n",
       "930        1046  3781426102  2023-12-10   \n",
       "937        1057  3816934057  2024-01-05   \n",
       "938        1058  3731639372  2023-10-03   \n",
       "946        1067  3781388877  2023-12-10   \n",
       "948        1071  3795525413  2024-01-20   \n",
       "\n",
       "                                                 title  \\\n",
       "0     Front-end Engineer/Web Developer (SDE 1 &amp; 2)   \n",
       "1    Android Developer-SDE 1 &amp; 2(Software Devel...   \n",
       "31      Web / UI Developer (HTML5 / CSS3 / JavaScript)   \n",
       "45                                       Web Developer   \n",
       "54                                   Software Engineer   \n",
       "..                                                 ...   \n",
       "930                             Plant Vehicle Engineer   \n",
       "937                             Jr engineer-Mechanical   \n",
       "938                                Engineer Mechanical   \n",
       "946                         Mechanical Design Engineer   \n",
       "948                                    Piping Engineer   \n",
       "\n",
       "                                           companyName    postedTime  \\\n",
       "0                                                 BOX8   3 weeks ago   \n",
       "1                                                 BOX8   3 weeks ago   \n",
       "31                                      OptiRisk India   3 weeks ago   \n",
       "45                           Sumago Infotech Pvt. Ltd.   3 weeks ago   \n",
       "54                         Infinite Computer Solutions    1 week ago   \n",
       "..                                                 ...           ...   \n",
       "930  Dubai Jobs, Gulf Jobs, Jobs in Dubai, Qatar, K...   1 month ago   \n",
       "937                                            CIEL HR   4 weeks ago   \n",
       "938  Dubai Jobs, Gulf Jobs, Jobs in Dubai, Qatar, K...  4 months ago   \n",
       "946                                 Vijaya Enterprises   1 month ago   \n",
       "948                                            Infosys    1 week ago   \n",
       "\n",
       "     applicationsCount                                        description  \\\n",
       "0                 85.0  Skill: html5 , ajax , oop , git , postgresql ,...   \n",
       "1                 80.0  Skill: algorithms , rest , github , css , html...   \n",
       "31               123.0  Skill: html5 , ajax , xml , json , debugging ,...   \n",
       "45                92.0  Skill: css , html5 , web developer , php , boo...   \n",
       "54                25.0  18057BR\\n\\nGurgaon\\n\\nJob Description\\n\\nProgr...   \n",
       "..                 ...                                                ...   \n",
       "930               67.0  This position is to encourage candidates to ap...   \n",
       "937               25.0  We are looking for a Junior engineer-Mechanica...   \n",
       "938              200.0  Key Responsibility Areas: (Mandatory)\\n\\n\\n\\n\\...   \n",
       "946               39.0  Job Description\\n\\n\\n * Resolve Issues related...   \n",
       "948               93.0  Primary skills: Piping Engineering, CAD, CATIA...   \n",
       "\n",
       "    contractType experienceLevel                                workType  \\\n",
       "0      Full-time     Entry level  Engineering and Information Technology   \n",
       "1      Full-time     Entry level  Engineering and Information Technology   \n",
       "31     Full-time     Entry level  Engineering and Information Technology   \n",
       "45     Full-time     Entry level  Engineering and Information Technology   \n",
       "54     Full-time     Entry level  Engineering and Information Technology   \n",
       "..           ...             ...                                     ...   \n",
       "930    Full-time     Entry level  Engineering and Information Technology   \n",
       "937    Full-time     Entry level                                   Other   \n",
       "938    Full-time     Entry level  Engineering and Information Technology   \n",
       "946    Full-time     Entry level  Engineering and Information Technology   \n",
       "948    Full-time     Entry level  Engineering and Information Technology   \n",
       "\n",
       "                            sector  companyId            city        state  \\\n",
       "0          Staffing and Recruiting    3479477       Bengaluru    Karnataka   \n",
       "1          Staffing and Recruiting    3479477       Bengaluru    Karnataka   \n",
       "31         Staffing and Recruiting     840297         Chennai   Tamil Nadu   \n",
       "45         Staffing and Recruiting   76330124          Nashik  Maharashtra   \n",
       "54   IT Services and IT Consulting      11115         Gurgaon      Haryana   \n",
       "..                             ...        ...             ...          ...   \n",
       "930        Staffing and Recruiting     926408           Halol      Gujarat   \n",
       "937  IT Services and IT Consulting   10083363       Rajasthan        India   \n",
       "938        Staffing and Recruiting     926408       Ramanagar    Karnataka   \n",
       "946        Staffing and Recruiting    2313856     Navi Mumbai  Maharashtra   \n",
       "948  IT Services and IT Consulting       1283  Bengaluru East    Karnataka   \n",
       "\n",
       "    recently_posted_jobs  \n",
       "0                     No  \n",
       "1                     No  \n",
       "31                    No  \n",
       "45                    No  \n",
       "54                   Yes  \n",
       "..                   ...  \n",
       "930                   No  \n",
       "937                   No  \n",
       "938                   No  \n",
       "946                   No  \n",
       "948                  Yes  \n",
       "\n",
       "[72 rows x 16 columns]"
      ]
     },
     "execution_count": 62,
     "metadata": {},
     "output_type": "execute_result"
    }
   ],
   "source": [
    "filtered_df = data[((data['experienceLevel'] == 'Entry level') & (data['sector'] == 'IT Services and IT Consulting') | (data['sector'] == 'Staffing and Recruiting'))]\n",
    "filtered_df"
   ]
  },
  {
   "cell_type": "markdown",
   "metadata": {},
   "source": [
    "###### Q11. Which companies have the highest number of job postings for full-time positions in the 'Software Development' sector and the 'Financial Services'?"
   ]
  },
  {
   "cell_type": "code",
   "execution_count": 65,
   "metadata": {},
   "outputs": [
    {
     "data": {
      "text/html": [
       "<div>\n",
       "<style scoped>\n",
       "    .dataframe tbody tr th:only-of-type {\n",
       "        vertical-align: middle;\n",
       "    }\n",
       "\n",
       "    .dataframe tbody tr th {\n",
       "        vertical-align: top;\n",
       "    }\n",
       "\n",
       "    .dataframe thead th {\n",
       "        text-align: right;\n",
       "    }\n",
       "</style>\n",
       "<table border=\"1\" class=\"dataframe\">\n",
       "  <thead>\n",
       "    <tr style=\"text-align: right;\">\n",
       "      <th></th>\n",
       "      <th>Unnamed: 0</th>\n",
       "      <th>id</th>\n",
       "      <th>publishedAt</th>\n",
       "      <th>title</th>\n",
       "      <th>companyName</th>\n",
       "      <th>postedTime</th>\n",
       "      <th>applicationsCount</th>\n",
       "      <th>description</th>\n",
       "      <th>contractType</th>\n",
       "      <th>experienceLevel</th>\n",
       "      <th>workType</th>\n",
       "      <th>sector</th>\n",
       "      <th>companyId</th>\n",
       "      <th>city</th>\n",
       "      <th>state</th>\n",
       "      <th>recently_posted_jobs</th>\n",
       "    </tr>\n",
       "  </thead>\n",
       "  <tbody>\n",
       "    <tr>\n",
       "      <th>4</th>\n",
       "      <td>4</td>\n",
       "      <td>3808399427</td>\n",
       "      <td>2024-01-23</td>\n",
       "      <td>Software Engineer</td>\n",
       "      <td>Microsoft</td>\n",
       "      <td>1 week ago</td>\n",
       "      <td>26.0</td>\n",
       "      <td>Do you have a passion for security? Do you lik...</td>\n",
       "      <td>Full-time</td>\n",
       "      <td>Not Applicable</td>\n",
       "      <td>Engineering and Information Technology</td>\n",
       "      <td>Software Development</td>\n",
       "      <td>1035</td>\n",
       "      <td>Hyderabad</td>\n",
       "      <td>Telangana</td>\n",
       "      <td>Yes</td>\n",
       "    </tr>\n",
       "    <tr>\n",
       "      <th>5</th>\n",
       "      <td>5</td>\n",
       "      <td>3803684281</td>\n",
       "      <td>2024-01-17</td>\n",
       "      <td>Software Engineer</td>\n",
       "      <td>Microsoft</td>\n",
       "      <td>2 weeks ago</td>\n",
       "      <td>200.0</td>\n",
       "      <td>Microsoft Endpoint Manager (MEM) Is An Integra...</td>\n",
       "      <td>Full-time</td>\n",
       "      <td>Not Applicable</td>\n",
       "      <td>Engineering and Information Technology</td>\n",
       "      <td>Software Development</td>\n",
       "      <td>1035</td>\n",
       "      <td>Noida</td>\n",
       "      <td>Uttar Pradesh</td>\n",
       "      <td>No</td>\n",
       "    </tr>\n",
       "    <tr>\n",
       "      <th>21</th>\n",
       "      <td>21</td>\n",
       "      <td>3808000044</td>\n",
       "      <td>2024-01-22</td>\n",
       "      <td>Software Engineer</td>\n",
       "      <td>Microsoft</td>\n",
       "      <td>1 week ago</td>\n",
       "      <td>120.0</td>\n",
       "      <td>Security represents the most critical prioriti...</td>\n",
       "      <td>Full-time</td>\n",
       "      <td>Not Applicable</td>\n",
       "      <td>Engineering and Information Technology</td>\n",
       "      <td>Software Development</td>\n",
       "      <td>1035</td>\n",
       "      <td>Hyderabad</td>\n",
       "      <td>Telangana</td>\n",
       "      <td>Yes</td>\n",
       "    </tr>\n",
       "    <tr>\n",
       "      <th>22</th>\n",
       "      <td>22</td>\n",
       "      <td>3807487394</td>\n",
       "      <td>2024-01-22</td>\n",
       "      <td>Software Engineer</td>\n",
       "      <td>Intuit</td>\n",
       "      <td>1 week ago</td>\n",
       "      <td>139.0</td>\n",
       "      <td>Overview:\\n\\n\\n\\nCome join the ProConnect team...</td>\n",
       "      <td>Full-time</td>\n",
       "      <td>Mid-Senior level</td>\n",
       "      <td>Engineering and Information Technology</td>\n",
       "      <td>Software Development</td>\n",
       "      <td>1666</td>\n",
       "      <td>Bengaluru</td>\n",
       "      <td>Karnataka</td>\n",
       "      <td>Yes</td>\n",
       "    </tr>\n",
       "    <tr>\n",
       "      <th>24</th>\n",
       "      <td>24</td>\n",
       "      <td>3800587016</td>\n",
       "      <td>2024-01-12</td>\n",
       "      <td>Software Engineer Test</td>\n",
       "      <td>PhonePe</td>\n",
       "      <td>3 weeks ago</td>\n",
       "      <td>200.0</td>\n",
       "      <td>About PhonePe\\n\\nPhonePe is India’s leading di...</td>\n",
       "      <td>Full-time</td>\n",
       "      <td>Mid-Senior level</td>\n",
       "      <td>Engineering and Information Technology</td>\n",
       "      <td>Software Development</td>\n",
       "      <td>10479149</td>\n",
       "      <td>Bangalore Urban</td>\n",
       "      <td>Karnataka</td>\n",
       "      <td>No</td>\n",
       "    </tr>\n",
       "    <tr>\n",
       "      <th>...</th>\n",
       "      <td>...</td>\n",
       "      <td>...</td>\n",
       "      <td>...</td>\n",
       "      <td>...</td>\n",
       "      <td>...</td>\n",
       "      <td>...</td>\n",
       "      <td>...</td>\n",
       "      <td>...</td>\n",
       "      <td>...</td>\n",
       "      <td>...</td>\n",
       "      <td>...</td>\n",
       "      <td>...</td>\n",
       "      <td>...</td>\n",
       "      <td>...</td>\n",
       "      <td>...</td>\n",
       "      <td>...</td>\n",
       "    </tr>\n",
       "    <tr>\n",
       "      <th>783</th>\n",
       "      <td>870</td>\n",
       "      <td>3813504011</td>\n",
       "      <td>2024-01-25</td>\n",
       "      <td>Editor (Content Writer) - Mumbai</td>\n",
       "      <td>Nielsen</td>\n",
       "      <td>1 week ago</td>\n",
       "      <td>29.0</td>\n",
       "      <td>At Nielsen, we believe that career growth is a...</td>\n",
       "      <td>Full-time</td>\n",
       "      <td>Not Applicable</td>\n",
       "      <td>Marketing, Public Relations, and Writing/Editing</td>\n",
       "      <td>Software Development</td>\n",
       "      <td>1714</td>\n",
       "      <td>Mumbai</td>\n",
       "      <td>Maharashtra</td>\n",
       "      <td>Yes</td>\n",
       "    </tr>\n",
       "    <tr>\n",
       "      <th>798</th>\n",
       "      <td>886</td>\n",
       "      <td>3787871655</td>\n",
       "      <td>2024-01-03</td>\n",
       "      <td>Content Writer</td>\n",
       "      <td>Livspace</td>\n",
       "      <td>1 month ago</td>\n",
       "      <td>200.0</td>\n",
       "      <td>ABOUT US\\n\\n\\n\\n\\nLivspace is Asiaʼs largest a...</td>\n",
       "      <td>Full-time</td>\n",
       "      <td>Associate</td>\n",
       "      <td>Design, Art/Creative, and Marketing</td>\n",
       "      <td>Software Development</td>\n",
       "      <td>2963287</td>\n",
       "      <td>Bangalore Urban</td>\n",
       "      <td>Karnataka</td>\n",
       "      <td>No</td>\n",
       "    </tr>\n",
       "    <tr>\n",
       "      <th>804</th>\n",
       "      <td>892</td>\n",
       "      <td>3802065898</td>\n",
       "      <td>2024-01-15</td>\n",
       "      <td>Finance Copywriter</td>\n",
       "      <td>Groww</td>\n",
       "      <td>2 weeks ago</td>\n",
       "      <td>52.0</td>\n",
       "      <td>About Groww\\n\\n\\n\\n\\nWe are a passionate group...</td>\n",
       "      <td>Full-time</td>\n",
       "      <td>Associate</td>\n",
       "      <td>Writing/Editing, Marketing, and Finance</td>\n",
       "      <td>Financial Services</td>\n",
       "      <td>10813156</td>\n",
       "      <td>Bengaluru</td>\n",
       "      <td>Karnataka</td>\n",
       "      <td>No</td>\n",
       "    </tr>\n",
       "    <tr>\n",
       "      <th>822</th>\n",
       "      <td>911</td>\n",
       "      <td>3769027853</td>\n",
       "      <td>2024-01-12</td>\n",
       "      <td>Copywriter</td>\n",
       "      <td>INDmoney</td>\n",
       "      <td>3 weeks ago</td>\n",
       "      <td>67.0</td>\n",
       "      <td>As a Copywriter, you will be involved in creat...</td>\n",
       "      <td>Full-time</td>\n",
       "      <td>Mid-Senior level</td>\n",
       "      <td>Marketing</td>\n",
       "      <td>Financial Services</td>\n",
       "      <td>14406593</td>\n",
       "      <td>Gurugram</td>\n",
       "      <td>Haryana</td>\n",
       "      <td>No</td>\n",
       "    </tr>\n",
       "    <tr>\n",
       "      <th>836</th>\n",
       "      <td>932</td>\n",
       "      <td>3817514066</td>\n",
       "      <td>2024-01-30</td>\n",
       "      <td>Content Writer</td>\n",
       "      <td>Redrob by McKinley Rice</td>\n",
       "      <td>3 days ago</td>\n",
       "      <td>25.0</td>\n",
       "      <td>\"Unlock your dream career with us. Connect wit...</td>\n",
       "      <td>Full-time</td>\n",
       "      <td>Associate</td>\n",
       "      <td>Design, Information Technology, and Writing/Ed...</td>\n",
       "      <td>Software Development</td>\n",
       "      <td>35413096</td>\n",
       "      <td>Noida</td>\n",
       "      <td>Uttar Pradesh</td>\n",
       "      <td>Yes</td>\n",
       "    </tr>\n",
       "  </tbody>\n",
       "</table>\n",
       "<p>114 rows × 16 columns</p>\n",
       "</div>"
      ],
      "text/plain": [
       "     Unnamed: 0          id publishedAt                             title  \\\n",
       "4             4  3808399427  2024-01-23                 Software Engineer   \n",
       "5             5  3803684281  2024-01-17                 Software Engineer   \n",
       "21           21  3808000044  2024-01-22                 Software Engineer   \n",
       "22           22  3807487394  2024-01-22                 Software Engineer   \n",
       "24           24  3800587016  2024-01-12            Software Engineer Test   \n",
       "..          ...         ...         ...                               ...   \n",
       "783         870  3813504011  2024-01-25  Editor (Content Writer) - Mumbai   \n",
       "798         886  3787871655  2024-01-03                    Content Writer   \n",
       "804         892  3802065898  2024-01-15                Finance Copywriter   \n",
       "822         911  3769027853  2024-01-12                        Copywriter   \n",
       "836         932  3817514066  2024-01-30                    Content Writer   \n",
       "\n",
       "                 companyName   postedTime  applicationsCount  \\\n",
       "4                  Microsoft   1 week ago               26.0   \n",
       "5                  Microsoft  2 weeks ago              200.0   \n",
       "21                 Microsoft   1 week ago              120.0   \n",
       "22                    Intuit   1 week ago              139.0   \n",
       "24                   PhonePe  3 weeks ago              200.0   \n",
       "..                       ...          ...                ...   \n",
       "783                  Nielsen   1 week ago               29.0   \n",
       "798                 Livspace  1 month ago              200.0   \n",
       "804                    Groww  2 weeks ago               52.0   \n",
       "822                 INDmoney  3 weeks ago               67.0   \n",
       "836  Redrob by McKinley Rice   3 days ago               25.0   \n",
       "\n",
       "                                           description contractType  \\\n",
       "4    Do you have a passion for security? Do you lik...    Full-time   \n",
       "5    Microsoft Endpoint Manager (MEM) Is An Integra...    Full-time   \n",
       "21   Security represents the most critical prioriti...    Full-time   \n",
       "22   Overview:\\n\\n\\n\\nCome join the ProConnect team...    Full-time   \n",
       "24   About PhonePe\\n\\nPhonePe is India’s leading di...    Full-time   \n",
       "..                                                 ...          ...   \n",
       "783  At Nielsen, we believe that career growth is a...    Full-time   \n",
       "798  ABOUT US\\n\\n\\n\\n\\nLivspace is Asiaʼs largest a...    Full-time   \n",
       "804  About Groww\\n\\n\\n\\n\\nWe are a passionate group...    Full-time   \n",
       "822  As a Copywriter, you will be involved in creat...    Full-time   \n",
       "836  \"Unlock your dream career with us. Connect wit...    Full-time   \n",
       "\n",
       "      experienceLevel                                           workType  \\\n",
       "4      Not Applicable             Engineering and Information Technology   \n",
       "5      Not Applicable             Engineering and Information Technology   \n",
       "21     Not Applicable             Engineering and Information Technology   \n",
       "22   Mid-Senior level             Engineering and Information Technology   \n",
       "24   Mid-Senior level             Engineering and Information Technology   \n",
       "..                ...                                                ...   \n",
       "783    Not Applicable   Marketing, Public Relations, and Writing/Editing   \n",
       "798         Associate                Design, Art/Creative, and Marketing   \n",
       "804         Associate            Writing/Editing, Marketing, and Finance   \n",
       "822  Mid-Senior level                                          Marketing   \n",
       "836         Associate  Design, Information Technology, and Writing/Ed...   \n",
       "\n",
       "                   sector  companyId             city          state  \\\n",
       "4    Software Development       1035        Hyderabad      Telangana   \n",
       "5    Software Development       1035            Noida  Uttar Pradesh   \n",
       "21   Software Development       1035        Hyderabad      Telangana   \n",
       "22   Software Development       1666        Bengaluru      Karnataka   \n",
       "24   Software Development   10479149  Bangalore Urban      Karnataka   \n",
       "..                    ...        ...              ...            ...   \n",
       "783  Software Development       1714           Mumbai    Maharashtra   \n",
       "798  Software Development    2963287  Bangalore Urban      Karnataka   \n",
       "804    Financial Services   10813156        Bengaluru      Karnataka   \n",
       "822    Financial Services   14406593         Gurugram        Haryana   \n",
       "836  Software Development   35413096            Noida  Uttar Pradesh   \n",
       "\n",
       "    recently_posted_jobs  \n",
       "4                    Yes  \n",
       "5                     No  \n",
       "21                   Yes  \n",
       "22                   Yes  \n",
       "24                    No  \n",
       "..                   ...  \n",
       "783                  Yes  \n",
       "798                   No  \n",
       "804                   No  \n",
       "822                   No  \n",
       "836                  Yes  \n",
       "\n",
       "[114 rows x 16 columns]"
      ]
     },
     "execution_count": 65,
     "metadata": {},
     "output_type": "execute_result"
    }
   ],
   "source": [
    "# Filter job postings for full-time positions in the 'Software Development' sector and the 'Financial Services' sector\n",
    "\n",
    "filtered_df = data[((data['contractType'] == 'Full-time') | (data['contractType'] == 'Permanent')) & ((data['sector'] == 'Software Development') | (data['sector'] == 'Financial Services'))]\n",
    "filtered_df"
   ]
  },
  {
   "cell_type": "code",
   "execution_count": 66,
   "metadata": {},
   "outputs": [],
   "source": [
    "# Group by company and count the number of job postings in each company\n",
    "company_job_counts = filtered_df['companyName'].value_counts()"
   ]
  },
  {
   "cell_type": "code",
   "execution_count": 67,
   "metadata": {},
   "outputs": [
    {
     "name": "stdout",
     "output_type": "stream",
     "text": [
      "Freshworks                       17\n",
      "Aditya Birla Capital             11\n",
      "Microsoft                        10\n",
      "Eazy ERP Technologies Pvt Ltd     6\n",
      "Navi                              3\n",
      "ValGenesis                        3\n",
      "Redrob by McKinley Rice           2\n",
      "MakeMyTrip                        2\n",
      "Intuit                            2\n",
      "Antal International               2\n",
      "Name: companyName, dtype: int64\n"
     ]
    }
   ],
   "source": [
    "# Display the companies with the highest number of job postings for full-time positions in the specified sectors\n",
    "print(company_job_counts.head(10)) "
   ]
  },
  {
   "cell_type": "markdown",
   "metadata": {},
   "source": [
    "###### Q12. How does the number of applications vary across different experience levels?"
   ]
  },
  {
   "cell_type": "code",
   "execution_count": 73,
   "metadata": {},
   "outputs": [
    {
     "data": {
      "image/png": "[encoded data removed]",
      "text/plain": [
       "<Figure size 720x432 with 1 Axes>"
      ]
     },
     "metadata": {
      "needs_background": "light"
     },
     "output_type": "display_data"
    }
   ],
   "source": [
    "# Create a count plot to visualize the distribution of applications across different experience levels\n",
    "plt.figure(figsize=(10, 6))\n",
    "sns.countplot(x='experienceLevel', data=data, palette='viridis')\n",
    "plt.title('Distribution of Applications Across Different Experience Levels')\n",
    "plt.xlabel('Experience Level')\n",
    "plt.ylabel('Number of Applications')\n",
    "plt.xticks(rotation=45)  # Rotate x-axis labels for better readability\n",
    "plt.grid(axis='y')  # Add grid lines on y-axis\n",
    "plt.tight_layout()\n",
    "plt.show()"
   ]
  },
  {
   "cell_type": "markdown",
   "metadata": {},
   "source": [
    "##### Insights\n",
    "- **Mid-Senior level positions attract the most applications**, with a significantly higher number compared to other levels.\n",
    "- **Entry-level and Associate positions** also receive a relatively high number of applications.\n",
    "- **Not Applicable, Executive, Internship, Full-time, Director, and Part-time positions** receive significantly fewer applications."
   ]
  },
  {
   "cell_type": "markdown",
   "metadata": {},
   "source": [
    "###### 13. What is the distribution of job postings by contract type and experience level?"
   ]
  },
  {
   "cell_type": "code",
   "execution_count": 74,
   "metadata": {},
   "outputs": [
    {
     "data": {
      "image/png": "[encoded data removed]",
      "text/plain": [
       "<Figure size 720x432 with 2 Axes>"
      ]
     },
     "metadata": {
      "needs_background": "light"
     },
     "output_type": "display_data"
    }
   ],
   "source": [
    "# Create a pivot table to aggregate the count of job postings by contract type and experience level\n",
    "pivot_df = data.pivot_table(index='experienceLevel', columns='contractType', values='title', aggfunc='count')\n",
    "\n",
    "# Create a heatmap to visualize the distribution of job postings by contract type and experience level\n",
    "plt.figure(figsize=(10, 6))\n",
    "sns.heatmap(pivot_df, cmap='viridis', annot=True, fmt='g', linewidths=0.5)\n",
    "plt.title('Distribution of Job Postings by Contract Type and Experience Level')\n",
    "plt.xlabel('Contract Type')\n",
    "plt.ylabel('Experience Level')\n",
    "plt.xticks(rotation=45)  # Rotate x-axis labels for better readability\n",
    "plt.yticks(rotation=0)   # Rotate y-axis labels for better readability\n",
    "plt.tight_layout()\n",
    "plt.show()"
   ]
  },
  {
   "cell_type": "markdown",
   "metadata": {},
   "source": [
    "##### Insights\n",
    "- The graphs shows a heatmap representing the distribution of job postings by contract type and experience level. The x-axis lists different contract types (Contract, Full-time, Internship, Other, Part-time, Temporary), while the y-axis represents various experience levels (Associate, Director, Entry level, Executive, Internship, Mid-Senior level, Not Applicable).\n",
    "\n",
    "- The color intensity of each cell indicates the number of job postings for a particular combination of contract type and experience level. A darker color represents a higher number of job postings, while a lighter color indicates a lower number."
   ]
  },
  {
   "cell_type": "markdown",
   "metadata": {},
   "source": [
    "###### Q14. Count of job postings for each contract type within each experience level."
   ]
  },
  {
   "cell_type": "code",
   "execution_count": 76,
   "metadata": {},
   "outputs": [
    {
     "data": {
      "image/png": "[encoded data removed]",
      "text/plain": [
       "<Figure size 864x576 with 1 Axes>"
      ]
     },
     "metadata": {
      "needs_background": "light"
     },
     "output_type": "display_data"
    }
   ],
   "source": [
    "# Create a grouped bar chart to visualize the distribution of job postings by contract type and experience level\n",
    "plt.figure(figsize=(12, 8))\n",
    "sns.countplot(data=data, x='experienceLevel', hue='contractType', palette='colorblind')\n",
    "plt.title('Distribution of Job Postings by Contract Type and Experience Level')\n",
    "plt.xlabel('Experience Level')\n",
    "plt.ylabel('Number of Job Postings')\n",
    "plt.xticks(rotation=45)  # Rotate x-axis labels for better readability\n",
    "plt.legend(title='Contract Type')\n",
    "plt.tight_layout()\n",
    "plt.show()"
   ]
  },
  {
   "cell_type": "markdown",
   "metadata": {},
   "source": [
    "##### Insights\n",
    "- **Most job postings are for full-time contracts**, across all experience levels.\n",
    "- **Temporary and contract jobs are less common**, but they are more prevalent at entry-level and mid-senior level positions.\n",
    "- **Internship positions are mostly available for entry-level candidates**."
   ]
  },
  {
   "cell_type": "markdown",
   "metadata": {},
   "source": [
    "# Happy Learning!"
   ]
  }
 ],
 "metadata": {
  "kernelspec": {
   "display_name": "Python 3",
   "language": "python",
   "name": "python3"
  },
  "language_info": {
   "codemirror_mode": {
    "name": "ipython",
    "version": 3
   },
   "file_extension": ".py",
   "mimetype": "text/x-python",
   "name": "python",
   "nbconvert_exporter": "python",
   "pygments_lexer": "ipython3",
   "version": "3.6.9"
  }
 },
 "nbformat": 4,
 "nbformat_minor": 4
}
